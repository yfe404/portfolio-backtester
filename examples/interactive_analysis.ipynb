{
 "cells": [
  {
   "cell_type": "markdown",
   "metadata": {},
   "source": [
    "# Portfolio Backtesting - Interactive Analysis\\n",
    "This notebook demonstrates how to use the portfolio backtester for interactive analysis."
   ]
  },
  {
   "cell_type": "code",
   "execution_count": null,
   "metadata": {},
   "outputs": [],
   "source": [
    "# Import required libraries\\n",
    "import sys\\n",
    "import os\\n",
    "sys.path.append('..')  # Add parent directory to path\\n",
    "\\n",
    "from portfolio_backtest import PortfolioBacktester\\n",
    "import pandas as pd\\n",
    "import numpy as np\\n",
    "import matplotlib.pyplot as plt\\n",
    "from datetime import datetime, timedelta\\n",
    "%matplotlib inline"
   ]
  },
  {
   "cell_type": "markdown",
   "metadata": {},
   "source": [
    "## 1. Define Your Portfolio"
   ]
  },
  {
   "cell_type": "code",
   "execution_count": null,
   "metadata": {},
   "outputs": [],
   "source": [
    "# Define portfolio allocation\\n",
    "portfolio = {\\n",
    "    'SPY': {'weight': 30.0, 'type': 'ETF', 'name': 'S&P 500'},\\n",
    "    'QQQ': {'weight': 20.0, 'type': 'ETF', 'name': 'Nasdaq-100'},\\n",
    "    'NVDA': {'weight': 15.0, 'type': 'Stock', 'name': 'Nvidia'},\\n",
    "    'MSFT': {'weight': 10.0, 'type': 'Stock', 'name': 'Microsoft'},\\n",
    "    'AAPL': {'weight': 10.0, 'type': 'Stock', 'name': 'Apple'},\\n",
    "    'GLD': {'weight': 10.0, 'type': 'Commodity', 'name': 'Gold'},\\n",
    "    'BND': {'weight': 5.0, 'type': 'ETF', 'name': 'Bonds'}\\n",
    "}\\n",
    "\\n",
    "# Backtest parameters\\n",
    "START_DATE = '2020-01-01'\\n",
    "END_DATE = datetime.now().strftime('%Y-%m-%d')\\n",
    "INITIAL_CAPITAL = 100000\\n",
    "\\n",
    "print(f\\\"Portfolio defined with {len(portfolio)} assets\\\")\\n",
    "print(f\\\"Backtest period: {START_DATE} to {END_DATE}\\\")"
   ]
  },
  {
   "cell_type": "markdown",
   "metadata": {},
   "source": [
    "## 2. Run Backtest"
   ]
  },
  {
   "cell_type": "code",
   "execution_count": null,
   "metadata": {},
   "outputs": [],
   "source": [
    "# Create backtester instance\\n",
    "backtester = PortfolioBacktester(\\n",
    "    portfolio_dict=portfolio,\\n",
    "    start_date=START_DATE,\\n",
    "    end_date=END_DATE,\\n",
    "    initial_capital=INITIAL_CAPITAL,\\n",
    "    verbose=True\\n",
    ")\\n",
    "\\n",
    "# Run the backtest\\n",
    "backtester.run()"
   ]
  },
  {
   "cell_type": "markdown",
   "metadata": {},
   "source": [
    "## 3. View Performance Metrics"
   ]
  },
  {
   "cell_type": "code",
   "execution_count": null,
   "metadata": {},
   "outputs": [],
   "source": [
    "# Display metrics\\n",
    "metrics = backtester.calculate_metrics()\\n",
    "\\n",
    "print(\\\"Portfolio Performance Metrics:\\\")\\n",
    "print(\\\"=\\\" * 40)\\n",
    "for metric, value in metrics.items():\\n",
    "    print(f\\\"{metric:.<25} {value}\\\")\\n",
    "\\n",
    "# Create metrics dataframe for easier analysis\\n",
    "metrics_df = pd.DataFrame([metrics]).T\\n",
    "metrics_df.columns = ['Value']"
   ]
  },
  {
   "cell_type": "markdown",
   "metadata": {},
   "source": [
    "## 4. Visualizations"
   ]
  },
  {
   "cell_type": "code",
   "execution_count": null,
   "metadata": {},
   "outputs": [],
   "source": [
    "# Generate comprehensive visualizations\\n",
    "backtester.plot_performance()"
   ]
  },
  {
   "cell_type": "markdown",
   "metadata": {},
   "source": [
    "## 5. Custom Analysis"
   ]
  },
  {
   "cell_type": "code",
   "execution_count": null,
   "metadata": {},
   "outputs": [],
   "source": [
    "# Access portfolio value directly\\n",
    "portfolio_value = backtester.portfolio_value\\n",
    "portfolio_returns = backtester.portfolio_returns\\n",
    "\\n",
    "# Calculate rolling statistics\\n",
    "rolling_mean = portfolio_returns.rolling(window=30).mean() * 252 * 100\\n",
    "rolling_std = portfolio_returns.rolling(window=30).std() * np.sqrt(252) * 100\\n",
    "\\n",
    "# Plot rolling statistics\\n",
    "fig, axes = plt.subplots(2, 1, figsize=(12, 8))\\n",
    "\\n",
    "axes[0].plot(rolling_mean.index, rolling_mean, label='30-Day Rolling Annual Return')\\n",
    "axes[0].axhline(y=0, color='r', linestyle='--', alpha=0.3)\\n",
    "axes[0].set_title('Rolling Annualized Return (30-day window)')\\n",
    "axes[0].set_ylabel('Return (%)')\\n",
    "axes[0].legend()\\n",
    "axes[0].grid(True, alpha=0.3)\\n",
    "\\n",
    "axes[1].plot(rolling_std.index, rolling_std, label='30-Day Rolling Volatility', color='orange')\\n",
    "axes[1].set_title('Rolling Volatility (30-day window)')\\n",
    "axes[1].set_ylabel('Volatility (%)')\\n",
    "axes[1].set_xlabel('Date')\\n",
    "axes[1].legend()\\n",
    "axes[1].grid(True, alpha=0.3)\\n",
    "\\n",
    "plt.tight_layout()\\n",
    "plt.show()"
   ]
  },
  {
   "cell_type": "markdown",
   "metadata": {},
   "source": [
    "## 6. Compare Different Allocations"
   ]
  },
  {
   "cell_type": "code",
   "execution_count": null,
   "metadata": {},
   "outputs": [],
   "source": [
    "# Define multiple portfolio strategies\\n",
    "strategies = {\\n",
    "    'Aggressive': {\\n",
    "        'NVDA': {'weight': 30.0, 'type': 'Stock', 'name': 'Nvidia'},\\n",
    "        'TSLA': {'weight': 25.0, 'type': 'Stock', 'name': 'Tesla'},\\n",
    "        'QQQ': {'weight': 25.0, 'type': 'ETF', 'name': 'Nasdaq-100'},\\n",
    "        'ARKK': {'weight': 20.0, 'type': 'ETF', 'name': 'ARK Innovation'}\\n",
    "    },\\n",
    "    'Conservative': {\\n",
    "        'BND': {'weight': 40.0, 'type': 'ETF', 'name': 'Bonds'},\\n",
    "        'SPY': {'weight': 30.0, 'type': 'ETF', 'name': 'S&P 500'},\\n",
    "        'GLD': {'weight': 20.0, 'type': 'Commodity', 'name': 'Gold'},\\n",
    "        'VIG': {'weight': 10.0, 'type': 'ETF', 'name': 'Dividend Growth'}\\n",
    "    },\\n",
    "    'Balanced': {\\n",
    "        'SPY': {'weight': 40.0, 'type': 'ETF', 'name': 'S&P 500'},\\n",
    "        'BND': {'weight': 30.0, 'type': 'ETF', 'name': 'Bonds'},\\n",
    "        'VEA': {'weight': 20.0, 'type': 'ETF', 'name': 'International'},\\n",
    "        'GLD': {'weight': 10.0, 'type': 'Commodity', 'name': 'Gold'}\\n",
    "    }\\n",
    "}\\n",
    "\\n",
    "# Run backtests for each strategy\\n",
    "results = {}\\n",
    "\\n",
    "for strategy_name, strategy_portfolio in strategies.items():\\n",
    "    print(f\\\"Running backtest for {strategy_name} strategy...\\\")\\n",
    "    \\n",
    "    bt = PortfolioBacktester(\\n",
    "        portfolio_dict=strategy_portfolio,\\n",
    "        start_date=START_DATE,\\n",
    "        end_date=END_DATE,\\n",
    "        initial_capital=INITIAL_CAPITAL,\\n",
    "        verbose=False\\n",
    "    )\\n",
    "    \\n",
    "    try:\\n",
    "        bt.run()\\n",
    "        metrics = bt.calculate_metrics()\\n",
    "        results[strategy_name] = {\\n",
    "            'portfolio_value': bt.portfolio_value,\\n",
    "            'metrics': metrics\\n",
    "        }\\n",
    "    except Exception as e:\\n",
    "        print(f\\\"  Error: {e}\\\")\\n",
    "\\n",
    "# Compare strategies\\n",
    "if results:\\n",
    "    plt.figure(figsize=(12, 6))\\n",
    "    \\n",
    "    for strategy_name, data in results.items():\\n",
    "        portfolio_value = data['portfolio_value']\\n",
    "        plt.plot(portfolio_value.index, portfolio_value, \\n",
    "                label=f\\\"{strategy_name}\\\", linewidth=2)\\n",
    "    \\n",
    "    plt.title('Strategy Comparison')\\n",
    "    plt.xlabel('Date')\\n",
    "    plt.ylabel('Portfolio Value ($)')\\n",
    "    plt.legend()\\n",
    "    plt.grid(True, alpha=0.3)\\n",
    "    plt.tight_layout()\\n",
    "    plt.show()\\n",
    "    \\n",
    "    # Compare metrics\\n",
    "    print(\\\"\\\\nStrategy Comparison:\\\")\\n",
    "    print(\\\"=\\\" * 60)\\n",
    "    for strategy_name, data in results.items():\\n",
    "        print(f\\\"\\\\n{strategy_name}:\\\")\\n",
    "        for metric in ['Total Return', 'Sharpe Ratio', 'Max Drawdown']:\\n",
    "            if metric in data['metrics']:\\n",
    "                print(f\\\"  {metric}: {data['metrics'][metric]}\\\")"
   ]
  },
  {
   "cell_type": "markdown",
   "metadata": {},
   "source": [
    "## 7. Export Results"
   ]
  },
  {
   "cell_type": "code",
   "execution_count": null,
   "metadata": {},
   "outputs": [],
   "source": [
    "# Export to CSV\\n",
    "backtester.export_results('notebook_results.csv')\\n",
    "print(\\\"Results exported to notebook_results.csv\\\")\\n",
    "\\n",
    "# Create summary DataFrame\\n",
    "summary_df = pd.DataFrame({\\n",
    "    'Date': portfolio_value.index,\\n",
    "    'Portfolio Value': portfolio_value.values,\\n",
    "    'Daily Return (%)': portfolio_returns.values * 100\\n",
    "})\\n",
    "\\n",
    "# Display first and last few rows\\n",
    "print(\\\"\\\\nFirst 5 days:\\\")\\n",
    "print(summary_df.head())\\n",
    "print(\\\"\\\\nLast 5 days:\\\")\\n",
    "print(summary_df.tail())\\n",
    "\\n",
    "# Calculate monthly summary\\n",
    "monthly_summary = summary_df.set_index('Date').resample('M').agg({\\n",
    "    'Portfolio Value': 'last',\\n",
    "    'Daily Return (%)': lambda x: (1 + x/100).prod() - 1\\n",
    "})\\n",
    "monthly_summary['Daily Return (%)'] *= 100\\n",
    "monthly_summary.columns = ['End Value', 'Monthly Return (%)']\\n",
    "\\n",
    "print(\\\"\\\\nMonthly Summary (last 12 months):\\\")\\n",
    "print(monthly_summary.tail(12))"
   ]
  }
 ],
 "metadata": {
  "kernelspec": {
   "display_name": "Python 3",
   "language": "python",
   "name": "python3"
  },
  "language_info": {
   "codemirror_mode": {
    "name": "ipython",
    "version": 3
   },
   "file_extension": ".py",
   "mimetype": "text/x-python",
   "name": "python",
   "nbconvert_exporter": "python",
   "pygments_lexer": "ipython3",
   "version": "3.8.0"
  }
 },
 "nbformat": 4,
 "nbformat_minor": 4
}